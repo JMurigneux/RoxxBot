{
 "cells": [
  {
   "cell_type": "code",
   "execution_count": 5,
   "metadata": {},
   "outputs": [],
   "source": [
    "user_input=\"warpbot stuff feu\"\n",
    "\n",
    "command_1=\"warpbot stuff terre osa\"\n",
    "command_2=\"warpbot calcul dragonnet https://d-bk.net/fr/t/9nwN\""
   ]
  },
  {
   "cell_type": "code",
   "execution_count": 6,
   "metadata": {},
   "outputs": [],
   "source": [
    "import re"
   ]
  },
  {
   "cell_type": "code",
   "execution_count": 8,
   "metadata": {},
   "outputs": [
    {
     "ename": "AttributeError",
     "evalue": "'NoneType' object has no attribute 'groups'",
     "output_type": "error",
     "traceback": [
      "\u001b[1;31m---------------------------------------------------------------------------\u001b[0m",
      "\u001b[1;31mAttributeError\u001b[0m                            Traceback (most recent call last)",
      "Cell \u001b[1;32mIn[8], line 2\u001b[0m\n\u001b[0;32m      1\u001b[0m m \u001b[38;5;241m=\u001b[39m re\u001b[38;5;241m.\u001b[39mmatch(\u001b[38;5;124mr\u001b[39m\u001b[38;5;124m\"\u001b[39m\u001b[38;5;124m(?P<botname>\u001b[39m\u001b[38;5;124m\\\u001b[39m\u001b[38;5;124mw+) (?P<function>\u001b[39m\u001b[38;5;124m\\\u001b[39m\u001b[38;5;124mw+) (?P<arg1>\u001b[39m\u001b[38;5;124m\\\u001b[39m\u001b[38;5;124mw*)(?P<arg2>\u001b[39m\u001b[38;5;124m\\\u001b[39m\u001b[38;5;124ms?[a-z0-9\u001b[39m\u001b[38;5;124m\\\u001b[39m\u001b[38;5;124m/\u001b[39m\u001b[38;5;124m\\\u001b[39m\u001b[38;5;124m.\u001b[39m\u001b[38;5;124m\\\u001b[39m\u001b[38;5;124m-:]*)\u001b[39m\u001b[38;5;124m\"\u001b[39m, user_input)\n\u001b[1;32m----> 2\u001b[0m \u001b[43mm\u001b[49m\u001b[38;5;241;43m.\u001b[39;49m\u001b[43mgroups\u001b[49m()\n\u001b[0;32m      4\u001b[0m element \u001b[38;5;241m=\u001b[39m m\u001b[38;5;241m.\u001b[39mgroup(\u001b[38;5;124m'\u001b[39m\u001b[38;5;124marg1\u001b[39m\u001b[38;5;124m'\u001b[39m)\n\u001b[0;32m      5\u001b[0m classe\u001b[38;5;241m=\u001b[39mm\u001b[38;5;241m.\u001b[39mgroup(\u001b[38;5;124m'\u001b[39m\u001b[38;5;124marg2\u001b[39m\u001b[38;5;124m'\u001b[39m)\n",
      "\u001b[1;31mAttributeError\u001b[0m: 'NoneType' object has no attribute 'groups'"
     ]
    }
   ],
   "source": [
    "m = re.match(r\"(?P<botname>\\w+) (?P<function>\\w+) (?P<arg1>\\w*)(?P<arg2>\\s?[a-z0-9\\/\\.\\-:]*)\", user_input)\n",
    "m.groups()\n",
    "\n",
    "element = m.group('arg1')\n",
    "classe=m.group('arg2')\n",
    "element,classe"
   ]
  },
  {
   "cell_type": "code",
   "execution_count": 2,
   "metadata": {},
   "outputs": [],
   "source": [
    "def f():\n",
    "    status=404\n",
    "    match status:\n",
    "            case 400:\n",
    "                return \"Bad request\"\n",
    "            case 404:\n",
    "                return \"Not found\"\n",
    "            case 418:\n",
    "                return \"I'm a teapot\"\n",
    "            case _:\n",
    "                return \"Something's wrong with the internet\""
   ]
  },
  {
   "cell_type": "code",
   "execution_count": 2,
   "metadata": {},
   "outputs": [
    {
     "name": "stdout",
     "output_type": "stream",
     "text": [
      "['terre', 'feu'] ['feu', 'terre'] ['feu', 'terre'] ['feu', 'terre']\n"
     ]
    }
   ],
   "source": [
    "t='terre'\n",
    "f='feu'\n",
    "e='eau'\n",
    "a='air'\n",
    "dp=\"dopou\"\n",
    "\n",
    "s=[t,f]\n",
    "ss=[f,t]\n",
    "\n",
    "print(s,sorted(s),ss,sorted(ss))"
   ]
  },
  {
   "cell_type": "code",
   "execution_count": 11,
   "metadata": {},
   "outputs": [],
   "source": [
    "\n",
    "def from_elts_to_multi(elt_list):\n",
    "    sorted_list=sorted(elt_list)\n",
    "    return '+'.join(sorted_list)"
   ]
  },
  {
   "cell_type": "code",
   "execution_count": 4,
   "metadata": {},
   "outputs": [
    {
     "data": {
      "text/plain": [
       "'feu+terre'"
      ]
     },
     "execution_count": 4,
     "metadata": {},
     "output_type": "execute_result"
    }
   ],
   "source": [
    "from_elts_to_multi(s)"
   ]
  },
  {
   "cell_type": "code",
   "execution_count": 7,
   "metadata": {},
   "outputs": [
    {
     "name": "stdout",
     "output_type": "stream",
     "text": [
      "terre+terre\n",
      "feu+terre\n",
      "eau+terre\n",
      "air+terre\n",
      "dopou+terre\n",
      "feu+feu\n",
      "eau+feu\n",
      "air+feu\n",
      "dopou+feu\n",
      "eau+eau\n",
      "air+eau\n",
      "dopou+eau\n",
      "air+air\n",
      "air+dopou\n"
     ]
    }
   ],
   "source": [
    "ll=[t,f,e,a,dp]\n",
    "for i in range(len(ll)-1):\n",
    "    for j in range(i,len(ll)):\n",
    "        print(from_elts_to_multi([ll[i],ll[j]]))"
   ]
  },
  {
   "cell_type": "code",
   "execution_count": 18,
   "metadata": {},
   "outputs": [
    {
     "name": "stdout",
     "output_type": "stream",
     "text": [
      "air+dopou+terre\n",
      "dopou+feu+terre\n",
      "air+dopou+feu\n",
      "air+dopou+eau\n",
      "dopou+eau+feu\n",
      "air+eau+terre\n",
      "eau+feu+terre\n",
      "air+eau+feu\n",
      "air+feu+terre\n",
      "dopou+eau+terre\n"
     ]
    }
   ],
   "source": [
    "import itertools\n",
    "seen=[]\n",
    "for e in set(itertools.product(ll,ll,ll)):\n",
    "    if not e[0] in e[1:] and not e[1] in [e[0],e[2]]:\n",
    "        temp=from_elts_to_multi(e)\n",
    "        \n",
    "        if not temp in seen:        \n",
    "            print(from_elts_to_multi(e))\n",
    "            seen.append(temp)"
   ]
  },
  {
   "cell_type": "code",
   "execution_count": null,
   "metadata": {},
   "outputs": [],
   "source": [
    "('eau', 'terre', 'air')\n"
   ]
  },
  {
   "cell_type": "code",
   "execution_count": 8,
   "metadata": {},
   "outputs": [
    {
     "data": {
      "text/plain": [
       "{'12/6': [], '11/6': [], 'cc': [], 'no_cc': []}"
      ]
     },
     "execution_count": 8,
     "metadata": {},
     "output_type": "execute_result"
    }
   ],
   "source": [
    "modes=dict()\n",
    "modes[\"12/6\"]=[]\n",
    "modes[\"11/6\"]=[]\n",
    "modes[\"cc\"]=[]\n",
    "modes[\"no_cc\"]=[]\n",
    "modes"
   ]
  },
  {
   "cell_type": "code",
   "execution_count": 9,
   "metadata": {},
   "outputs": [
    {
     "data": {
      "text/plain": [
       "{'terre': {'12/6': [], '11/6': [], 'cc': [], 'no_cc': []},\n",
       " 'feu': {'12/6': [], '11/6': [], 'cc': [], 'no_cc': []},\n",
       " 'eau': {'12/6': [], '11/6': [], 'cc': [], 'no_cc': []},\n",
       " 'air': {'12/6': [], '11/6': [], 'cc': [], 'no_cc': []},\n",
       " 'dopou': {'12/6': [], '11/6': [], 'cc': [], 'no_cc': []},\n",
       " 'feu+terre': {'12/6': [], '11/6': [], 'cc': [], 'no_cc': []},\n",
       " 'eau+terre': {'12/6': [], '11/6': [], 'cc': [], 'no_cc': []},\n",
       " 'air+terre': {'12/6': [], '11/6': [], 'cc': [], 'no_cc': []},\n",
       " 'dopou+terre': {'12/6': [], '11/6': [], 'cc': [], 'no_cc': []},\n",
       " 'eau+feu': {'12/6': [], '11/6': [], 'cc': [], 'no_cc': []},\n",
       " 'air+feu': {'12/6': [], '11/6': [], 'cc': [], 'no_cc': []},\n",
       " 'dopou+feu': {'12/6': [], '11/6': [], 'cc': [], 'no_cc': []},\n",
       " 'air+eau': {'12/6': [], '11/6': [], 'cc': [], 'no_cc': []},\n",
       " 'dopou+eau': {'12/6': [], '11/6': [], 'cc': [], 'no_cc': []},\n",
       " 'air+dopou': {'12/6': [], '11/6': [], 'cc': [], 'no_cc': []}}"
      ]
     },
     "execution_count": 9,
     "metadata": {},
     "output_type": "execute_result"
    }
   ],
   "source": [
    "\n",
    "\n",
    "stuffs=dict()\n",
    "\n",
    "stuffs[\"terre\"]={'12/6': [], '11/6': [], 'cc': [], 'no_cc': []}\n",
    "stuffs[\"feu\"]={'12/6': [], '11/6': [], 'cc': [], 'no_cc': []}\n",
    "stuffs[\"eau\"]={'12/6': [], '11/6': [], 'cc': [], 'no_cc': []}\n",
    "stuffs[\"air\"]={'12/6': [], '11/6': [], 'cc': [], 'no_cc': []}\n",
    "stuffs[\"dopou\"]={'12/6': [], '11/6': [], 'cc': [], 'no_cc': []}\n",
    "stuffs[\"feu+terre\"]={'12/6': [], '11/6': [], 'cc': [], 'no_cc': []}\n",
    "stuffs[\"eau+terre\"]={'12/6': [], '11/6': [], 'cc': [], 'no_cc': []}\n",
    "stuffs[\"air+terre\"]={'12/6': [], '11/6': [], 'cc': [], 'no_cc': []}\n",
    "stuffs[\"dopou+terre\"]={'12/6': [], '11/6': [], 'cc': [], 'no_cc': []}\n",
    "stuffs[\"eau+feu\"]={'12/6': [], '11/6': [], 'cc': [], 'no_cc': []}\n",
    "stuffs[\"air+feu\"]={'12/6': [], '11/6': [], 'cc': [], 'no_cc': []}\n",
    "stuffs[\"dopou+feu\"]={'12/6': [], '11/6': [], 'cc': [], 'no_cc': []}\n",
    "stuffs[\"air+eau\"]={'12/6': [], '11/6': [], 'cc': [], 'no_cc': []}\n",
    "stuffs[\"dopou+eau\"]={'12/6': [], '11/6': [], 'cc': [], 'no_cc': []}\n",
    "stuffs[\"air+dopou\"]={'12/6': [], '11/6': [], 'cc': [], 'no_cc': []}\n",
    "stuffs[\"air+eau+terre\"]={'12/6': [], '11/6': [], 'cc': [], 'no_cc': []}\n",
    "stuffs[\"air+eau+feu\"]={'12/6': [], '11/6': [], 'cc': [], 'no_cc': []}\n",
    "stuffs[\"air+feu+terre\"]={'12/6': [], '11/6': [], 'cc': [], 'no_cc': []}\n",
    "stuffs[\"eau+feu+terre\"]={'12/6': [], '11/6': [], 'cc': [], 'no_cc': []}\n",
    "stuffs[\"multi\"]={'12/6': [], '11/6': [], 'cc': [], 'no_cc': []}\n",
    "stuffs"
   ]
  },
  {
   "cell_type": "code",
   "execution_count": 12,
   "metadata": {},
   "outputs": [
    {
     "data": {
      "text/plain": [
       "'eau+feu+terre'"
      ]
     },
     "execution_count": 12,
     "metadata": {},
     "output_type": "execute_result"
    }
   ],
   "source": [
    "\n",
    "bordel=\"feu+terre+eau\"\n",
    "\n",
    "def rearrange_elt(elts):\n",
    "    elt_spl=elts.split(\"+\")\n",
    "    return from_elts_to_multi(elt_spl)\n",
    "\n",
    "rearrange_elt(bordel)"
   ]
  },
  {
   "cell_type": "code",
   "execution_count": 13,
   "metadata": {},
   "outputs": [],
   "source": [
    "stuffs=dict()\n",
    "\n",
    "stuffs[\"terre\"]={'12/6': [\"<https://d-bk.net/fr/t/8vYb>\"], '11/6': [\"<https://d-bk.net/fr/t/9WxC>\"], 'cc': [], 'no_cc': []}\n",
    "stuffs[\"feu\"]={'12/6': [\"<https://d-bk.net/fr/t/A8Zv>\"], '11/6': [\"<https://d-bk.net/fr/t/8yAu>\"], 'cc': [], 'no_cc': []}\n",
    "stuffs[\"eau\"]={'12/6': [\"<https://d-bk.net/fr/t/B7er>\"], '11/6': [\"<https://d-bk.net/fr/t/B9MR>\"], 'cc': [], 'no_cc': []}\n",
    "stuffs[\"air\"]={'12/6': [\"<https://d-bk.net/fr/t/5qJF>\"], '11/6': [\"<https://d-bk.net/fr/t/9RJp>\"], 'cc': [], 'no_cc': []}\n",
    "stuffs[\"dopou\"]={'12/6': [], '11/6': [], 'cc': [], 'no_cc': []} ### Dopou is always with another element\n",
    "stuffs[\"feu+terre\"]={'12/6': [], '11/6': [], 'cc': [\"<https://d-bk.net/fr/t/7ESW>\"], 'no_cc': [\"<https://d-bk.net/fr/t/AwSG>\"]}\n",
    "stuffs[\"eau+terre\"]={'12/6': [], '11/6': [\"<https://d-bk.net/fr/t/Azb9>\"], 'cc': [], 'no_cc': []}\n",
    "stuffs[\"air+terre\"]={'12/6': [], '11/6': [], 'cc': [], 'no_cc': []}\n",
    "stuffs[\"dopou+terre\"]={'12/6': [], '11/6': [], 'cc': [], 'no_cc': []}\n",
    "stuffs[\"eau+feu\"]={'12/6': [], '11/6': [\"<https://d-bk.net/fr/t/931X>\"], 'cc': [], 'no_cc': []}\n",
    "stuffs[\"air+feu\"]={'12/6': [], '11/6': [], 'cc': [\"<https://d-bk.net/fr/t/7OhS>\"], 'no_cc': []}\n",
    "stuffs[\"dopou+feu\"]={'12/6': [], '11/6': [], 'cc': [], 'no_cc': []}\n",
    "stuffs[\"air+eau\"]={'12/6': [\"<https://d-bk.net/fr/t/8Ql4>\"], '11/6': [\"<https://d-bk.net/fr/t/BMXD>\"], 'cc': [], 'no_cc': []}\n",
    "stuffs[\"dopou+eau\"]={'12/6': [], '11/6': [\"<https://d-bk.net/fr/t/AzPu>\"], 'cc': [], 'no_cc': []}\n",
    "stuffs[\"air+dopou\"]={'12/6': [], '11/6': [\"<https://d-bk.net/fr/t/BK5m>\"], 'cc': [], 'no_cc': []}\n",
    "stuffs[\"air+eau+terre\"]={'12/6': [], '11/6': [\"<https://d-bk.net/fr/t/2OhT>\"], 'cc': [], 'no_cc': []}\n",
    "stuffs[\"air+eau+feu\"]={'12/6': [], '11/6': [], 'cc': [\"<https://d-bk.net/fr/t/2OhM>\"], 'no_cc': [\"<https://d-bk.net/fr/t/BQYM>\"]}\n",
    "stuffs[\"air+feu+terre\"]={'12/6': [], '11/6': [], 'cc': [\"<https://d-bk.net/fr/t/4qgX>\"], 'no_cc': [\"<https://d-bk.net/fr/t/AP7x>\"]}\n",
    "stuffs[\"eau+feu+terre\"]={'12/6': [], '11/6': [], 'cc': [\"<https://d-bk.net/fr/t/47TD>\"], 'no_cc': []}\n",
    "stuffs[\"air+dopou+eau\"]={'12/6': [], '11/6': [\"<https://d-bk.net/fr/t/A9Iy>\"], 'cc': [], 'no_cc': []}\n",
    "stuffs[\"air+dopou+terre\"]={'12/6': [], '11/6': [], 'cc': [], 'no_cc': []}\n",
    "stuffs[\"dopou+feu+terre\"]={'12/6': [], '11/6': [], 'cc': [], 'no_cc': []}\n",
    "stuffs[\"air+dopou+feu\"]={'12/6': [], '11/6': [], 'cc': [], 'no_cc': []}\n",
    "stuffs[\"dopou+eau+feu\"]={'12/6': [], '11/6': [\"<https://d-bk.net/fr/t/BQQd>\"], 'cc': [], 'no_cc': []}\n",
    "stuffs[\"dopou+eau+terre\"]={'12/6': [], '11/6': [\"<https://d-bk.net/fr/t/BQQl>\"], 'cc': [], 'no_cc': []}\n",
    "stuffs[\"multi\"]={'12/6': [], '11/6': [], 'cc': [\"<https://d-bk.net/fr/t/2Ol7>\"], 'no_cc': []}    "
   ]
  },
  {
   "cell_type": "code",
   "execution_count": 14,
   "metadata": {},
   "outputs": [
    {
     "data": {
      "text/plain": [
       "dict_keys(['terre', 'feu', 'eau', 'air', 'dopou', 'feu+terre', 'eau+terre', 'air+terre', 'dopou+terre', 'eau+feu', 'air+feu', 'dopou+feu', 'air+eau', 'dopou+eau', 'air+dopou', 'air+eau+terre', 'air+eau+feu', 'air+feu+terre', 'eau+feu+terre', 'air+dopou+eau', 'air+dopou+terre', 'dopou+feu+terre', 'air+dopou+feu', 'dopou+eau+feu', 'dopou+eau+terre', 'multi'])"
      ]
     },
     "execution_count": 14,
     "metadata": {},
     "output_type": "execute_result"
    }
   ],
   "source": [
    "stuffs.keys()"
   ]
  },
  {
   "cell_type": "code",
   "execution_count": 15,
   "metadata": {},
   "outputs": [
    {
     "data": {
      "text/plain": [
       "'eau+terre'"
      ]
     },
     "execution_count": 15,
     "metadata": {},
     "output_type": "execute_result"
    }
   ],
   "source": [
    "rearrange_elt('terre+eau')"
   ]
  },
  {
   "cell_type": "code",
   "execution_count": 4,
   "metadata": {},
   "outputs": [],
   "source": [
    "def from_elts_to_multi(elt_list):\n",
    "    sorted_list=sorted(elt_list)\n",
    "    return '+'.join(sorted_list)"
   ]
  },
  {
   "cell_type": "code",
   "execution_count": 11,
   "metadata": {},
   "outputs": [
    {
     "data": {
      "text/plain": [
       "'zqeqzd'"
      ]
     },
     "execution_count": 11,
     "metadata": {},
     "output_type": "execute_result"
    }
   ],
   "source": [
    "l=\"   zqeqzd  \"\n",
    "l.strip()"
   ]
  },
  {
   "cell_type": "code",
   "execution_count": 43,
   "metadata": {},
   "outputs": [],
   "source": [
    "def lecture_elt(elts):\n",
    "    elt_spl=[e.strip() for e in elts.replace(\"/\",\"+\").split(r\"+\")]\n",
    "    # print(elts,elt_spl)\n",
    "    if len(elt_spl)==1:\n",
    "        elt_spl=[e.strip() for e in elts.split(r\" \")]\n",
    "        # print(elts,elt_spl)\n",
    "\n",
    "    return from_elts_to_multi(elt_spl)"
   ]
  },
  {
   "cell_type": "code",
   "execution_count": 45,
   "metadata": {},
   "outputs": [
    {
     "name": "stdout",
     "output_type": "stream",
     "text": [
      "test :eau+air|air+eau|\n",
      "test :eau|eau|\n",
      "test :eau air|air+eau|\n",
      "test :eau + air|air+eau|\n",
      "test :eau/air|air+eau|\n",
      "test :eau / air|air+eau|\n",
      "test :eau+ air|air+eau|\n",
      "test :eau   air|++air+eau|\n"
     ]
    }
   ],
   "source": [
    "test1='eau+air'\n",
    "test2=\"eau\"\n",
    "test3=\"eau air\"\n",
    "test4=\"eau + air\"\n",
    "test5=\"eau/air\"\n",
    "test6=\"eau / air\"\n",
    "test7=\"eau+ air\"\n",
    "test8=\"eau   air\"\n",
    "print(\"test :\"+test1 +\"|\"+lecture_elt(test1)+\"|\")\n",
    "print(\"test :\"+test2 +\"|\"+lecture_elt(test2)+\"|\")\n",
    "print(\"test :\"+test3 +\"|\"+lecture_elt(test3)+\"|\")\n",
    "print(\"test :\"+test4 +\"|\"+lecture_elt(test4)+\"|\")\n",
    "print(\"test :\"+test5 +\"|\"+lecture_elt(test5)+\"|\")\n",
    "print(\"test :\"+test6 +\"|\"+lecture_elt(test6)+\"|\")\n",
    "print(\"test :\"+test7 +\"|\"+lecture_elt(test7)+\"|\")\n",
    "print(\"test :\"+test8 +\"|\"+lecture_elt(test8)+\"|\")"
   ]
  }
 ],
 "metadata": {
  "kernelspec": {
   "display_name": "Python 3",
   "language": "python",
   "name": "python3"
  },
  "language_info": {
   "codemirror_mode": {
    "name": "ipython",
    "version": 3
   },
   "file_extension": ".py",
   "mimetype": "text/x-python",
   "name": "python",
   "nbconvert_exporter": "python",
   "pygments_lexer": "ipython3",
   "version": "3.12.1"
  }
 },
 "nbformat": 4,
 "nbformat_minor": 2
}
